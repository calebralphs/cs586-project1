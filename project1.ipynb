{
 "cells": [
  {
   "cell_type": "markdown",
   "metadata": {},
   "source": [
    "## Importing Libraries"
   ]
  },
  {
   "cell_type": "code",
   "execution_count": 204,
   "metadata": {
    "collapsed": false
   },
   "outputs": [],
   "source": [
    "import json\n",
    "import pandas as pd\n",
    "import time\n",
    "%matplotlib inline\n",
    "import matplotlib.pyplot as plt\n",
    "from IPython.display import clear_output\n",
    "import pprint"
   ]
  },
  {
   "cell_type": "markdown",
   "metadata": {},
   "source": [
    "## Business Dataset"
   ]
  },
  {
   "cell_type": "code",
   "execution_count": 115,
   "metadata": {
    "collapsed": true
   },
   "outputs": [],
   "source": [
    "businesses = pd.read_json('business.json', lines = True)\n",
    "restaurants = businesses.drop(businesses[businesses.categories.str.contains('Restaurants') == False].index) # 59853 Restaurants\n",
    "restaurants = restaurants[['business_id', 'name', 'city', 'state', 'review_count', 'stars']]\n",
    "restaurants.to_csv('restaurants.csv', index = False)"
   ]
  },
  {
   "cell_type": "markdown",
   "metadata": {},
   "source": [
    "## Review Dataset\n",
    "\n",
    "Exporting full dataset to csv (estimated time: ~ 6 hours)"
   ]
  },
  {
   "cell_type": "code",
   "execution_count": null,
   "metadata": {
    "collapsed": false
   },
   "outputs": [],
   "source": [
    "# reviews: 'review_id', 'user_id', 'business_id', 'stars', 'date'\n",
    "header_df = pd.DataFrame(columns=['review_id', 'user_id', 'business_id', 'stars', 'date'])\n",
    "header_df.to_csv('restaurant_reviews.csv')\n",
    "restaurant_business_ids = list(restaurants['business_id'])\n",
    "\n",
    "chunk_size = 100000\n",
    "num_checked = 0\n",
    "num_reviews = 0\n",
    "i = 0\n",
    "chunk_dict = {}\n",
    "\n",
    "with open('review.json', 'r', errors = 'ignore') as file:\n",
    "    for line in file:\n",
    "        if num_checked % chunk_size == 0:\n",
    "            chunk_df = pd.DataFrame.from_dict(chunk_dict, orient = 'index')\n",
    "            chunk_df.to_csv('restaurant_reviews.csv', mode = 'a', header = False, index = False)\n",
    "            chunk_dict = {}\n",
    "            chunk_df.drop(chunk_df.index, inplace=True)\n",
    "            i = 0\n",
    "            clear_output()\n",
    "            print(str(num_checked / 66859)[:4] + '% done, ' + str(num_reviews) + ' reviews in dataframe at ' + time.ctime())\n",
    "        review = json.loads(line)\n",
    "        num_checked += 1\n",
    "        if review['business_id'] in restaurant_business_ids:\n",
    "            i += 1\n",
    "            num_reviews += 1\n",
    "            chunk_dict[i] = {'review_id': review['review_id'], \n",
    "                             'user_id': review['user_id'],\n",
    "                             'business_id': review['business_id'],\n",
    "                             'stars': review['stars'],\n",
    "                             'date': review['date']}"
   ]
  },
  {
   "cell_type": "markdown",
   "metadata": {},
   "source": [
    "Taking sample of restaurants and getting all the respective reviews"
   ]
  },
  {
   "cell_type": "code",
   "execution_count": null,
   "metadata": {
    "collapsed": false
   },
   "outputs": [],
   "source": [
    "restaurant_business_ids = list(restaurants['business_id'])[:100]\n",
    "reviews_df = pd.DataFrame(columns = ['review_id', 'user_id', 'business_id', 'stars', 'date'])\n",
    "num_checked = 0\n",
    "with open('review.json', 'r', errors = 'ignore') as file:\n",
    "    for line in file:\n",
    "        review = json.loads(line)\n",
    "        num_checked += 1\n",
    "        if num_checked % 10000 == 0:\n",
    "            clear_output()\n",
    "            print(str(num_checked / 66859)[:4] + '% done, ' + str(len(reviews_df.index)) + ' reviews in dataframe')\n",
    "        if review['business_id'] in restaurant_business_ids:\n",
    "            reviews_df = reviews_df.append({'review_id': review['review_id'], \n",
    "                                            'user_id': review['user_id'],\n",
    "                                            'business_id': review['business_id'],\n",
    "                                            'stars': review['stars'],\n",
    "                                            'date': review['date']}, ignore_index = True)"
   ]
  },
  {
   "cell_type": "markdown",
   "metadata": {},
   "source": [
    "## User Dataset"
   ]
  },
  {
   "cell_type": "code",
   "execution_count": null,
   "metadata": {
    "collapsed": false
   },
   "outputs": [],
   "source": [
    "# users: 'user_id', 'review_count', 'elite', 'yelping_since', 'average_stars'\n",
    "\n",
    "users_df = pd.DataFrame(columns = ['user_id', 'review_count', 'elite', 'yelping_since', 'avergae_stars'])\n",
    "users_df.to_csv('users.csv')\n",
    "\n",
    "chunk_size = 100000\n",
    "num_users = 0\n",
    "i = 0\n",
    "chunk_dict = {}\n",
    "\n",
    "with open('user.json', 'r', errors = 'ignore') as file:\n",
    "    for line in file:\n",
    "        if num_users % chunk_size == 0:\n",
    "            chunk_df = pd.DataFrame.from_dict(chunk_dict, orient = 'index')\n",
    "            chunk_df.to_csv('users.csv', mode = 'a', header = False, index = False)\n",
    "            chunk_dict = {}\n",
    "            chunk_df.drop(chunk_df.index, inplace=True)\n",
    "            i = 0\n",
    "            clear_output()\n",
    "            print(str(num_users / 66859)[:4] + '% done, ' + str(num_users) + ' users in dataframe at ' + time.ctime())\n",
    "        user = json.loads(line)\n",
    "        i += 1\n",
    "        num_users += 1\n",
    "        chunk_dict[i] = {'user_id': user['user_id'], \n",
    "                         'review_count': user['review_count'],\n",
    "                         'elite': user['elite'],\n",
    "                         'yelping_since': user['yelping_since'],\n",
    "                         'average_stars': user['average_stars']}"
   ]
  },
  {
   "cell_type": "code",
   "execution_count": null,
   "metadata": {
    "collapsed": true
   },
   "outputs": [],
   "source": [
    "# Make user dataset into a dictionary where the user id is the key. Then iterate through reviews and find the user\n",
    "# to check whether the user was elite in the review date year"
   ]
  },
  {
   "cell_type": "markdown",
   "metadata": {},
   "source": [
    "# Analysis\n",
    "\n",
    "## Sampling"
   ]
  },
  {
   "cell_type": "code",
   "execution_count": 174,
   "metadata": {
    "collapsed": false
   },
   "outputs": [],
   "source": [
    "restaurants = pd.read_csv('restaurants.csv')\n",
    "# median is 20\n",
    "restaurants = restaurants[restaurants['review_count'] > 20]\n",
    "sample_restaurants = restaurants.sample(100, random_state = 5)"
   ]
  },
  {
   "cell_type": "code",
   "execution_count": 180,
   "metadata": {
    "collapsed": false
   },
   "outputs": [
    {
     "name": "stdout",
     "output_type": "stream",
     "text": [
      "101.% done, 12586 reviews in dataframe at Tue Feb 12 16:13:18 2019\n"
     ]
    }
   ],
   "source": [
    "sample_restaurant_business_ids = list(sample_restaurants['business_id'])\n",
    "sample_reviews_df = pd.DataFrame(columns = ['review_id', 'user_id', 'business_id', 'stars', 'date'])\n",
    "num_checked = 0\n",
    "\n",
    "\n",
    "reviews = pd.read_csv('restaurant_reviews.csv')\n",
    "for index, review in reviews.iterrows():\n",
    "    if index % 100000 == 0:\n",
    "        clear_output()\n",
    "        print(str(index / 41538)[:4] + '% done, ' + str(len(sample_reviews_df.index)) + ' reviews in dataframe at ' + time.ctime())\n",
    "    if review.business_id in sample_restaurant_business_ids:\n",
    "        sample_reviews_df = sample_reviews_df.append(review)"
   ]
  },
  {
   "cell_type": "code",
   "execution_count": 188,
   "metadata": {
    "collapsed": true
   },
   "outputs": [],
   "source": [
    "sample_restaurants.to_csv('sampled_restaurants.csv', index = False)\n",
    "sample_reviews_df.to_csv('sampled_restaurant_reviews.csv', index = False)"
   ]
  },
  {
   "cell_type": "markdown",
   "metadata": {},
   "source": [
    "Creating dictionary of business_id's to business objects and lists of associated reviews"
   ]
  },
  {
   "cell_type": "code",
   "execution_count": null,
   "metadata": {
    "collapsed": false
   },
   "outputs": [],
   "source": [
    "sample_restaurants = pd.read_csv('sampled_restaurants.csv')\n",
    "sample_reviews = pd.read_csv('sampled_restaurant_reviews.csv')\n",
    "\n",
    "restaurant_dict = {}\n",
    "for i, restaurant in sample_restaurants.iterrows():\n",
    "    reviews = []\n",
    "    for j, review in sample_reviews.iterrows():\n",
    "        if review.business_id == restaurant.business_id:\n",
    "            reviews.append(review.to_dict())\n",
    "    restaurant_dict[restaurant.business_id] = {'restaurant': restaurant.to_dict(), 'reviews': reviews}"
   ]
  },
  {
   "cell_type": "code",
   "execution_count": 213,
   "metadata": {
    "collapsed": false
   },
   "outputs": [
    {
     "name": "stdout",
     "output_type": "stream",
     "text": [
      "{ 'restaurant': { 'business_id': 'H7z0JH-i_KqhrsZhEDBpVA',\n",
      "                  'city': 'Toronto',\n",
      "                  'name': 'Dominion Pub and Kitchen',\n",
      "                  'review_count': 40,\n",
      "                  'stars': 3.5,\n",
      "                  'state': 'ON'},\n",
      "  'reviews': [ { 'business_id': 'H7z0JH-i_KqhrsZhEDBpVA',\n",
      "                 'date': '2016-09-06 03:32:54',\n",
      "                 'review_id': 'FRub3k-YeYtJpSmhBROU4w',\n",
      "                 'stars': 5.0,\n",
      "                 'user_id': 'D92snVFOZrBQjGyAuuz-8Q'},\n",
      "               { 'business_id': 'H7z0JH-i_KqhrsZhEDBpVA',\n",
      "                 'date': '2016-01-17 16:41:43',\n",
      "                 'review_id': '3nqYT7D9NlcAlgA8qHTJOA',\n",
      "                 'stars': 2.0,\n",
      "                 'user_id': 'qHwj63QRTu_rWWGMNuoQlg'},\n",
      "               { 'business_id': 'H7z0JH-i_KqhrsZhEDBpVA',\n",
      "                 'date': '2016-01-04 15:43:04',\n",
      "                 'review_id': 'vhpsPBL-jMuw-BZGU77m4A',\n",
      "                 'stars': 4.0,\n",
      "                 'user_id': '6Bai1MguJ1jVOY1wZliCUw'},\n",
      "               { 'business_id': 'H7z0JH-i_KqhrsZhEDBpVA',\n",
      "                 'date': '2016-02-24 02:28:04',\n",
      "                 'review_id': '2q-WoDD_OzIveMMJ5Sx3uQ',\n",
      "                 'stars': 3.0,\n",
      "                 'user_id': 'BcWoqczYhcM8_qQZGc9zqQ'},\n",
      "               { 'business_id': 'H7z0JH-i_KqhrsZhEDBpVA',\n",
      "                 'date': '2016-06-12 04:03:00',\n",
      "                 'review_id': 'QY4Qkt-Oz5T1YOzaxgpHdA',\n",
      "                 'stars': 4.0,\n",
      "                 'user_id': 'DpvlUidUW6ROhz8OrR98ng'},\n",
      "               { 'business_id': 'H7z0JH-i_KqhrsZhEDBpVA',\n",
      "                 'date': '2016-09-19 03:41:36',\n",
      "                 'review_id': '4uvOKGJvxb14uVmaKirYjg',\n",
      "                 'stars': 4.0,\n",
      "                 'user_id': 'ulk3n0JW8tWnQ83C7m8z9A'},\n",
      "               { 'business_id': 'H7z0JH-i_KqhrsZhEDBpVA',\n",
      "                 'date': '2017-07-19 14:57:42',\n",
      "                 'review_id': '_IwXCxoh1AI8k9TgosVuZQ',\n",
      "                 'stars': 3.0,\n",
      "                 'user_id': 'CcH9nOfVDLLZsU4l6aTaVg'},\n",
      "               { 'business_id': 'H7z0JH-i_KqhrsZhEDBpVA',\n",
      "                 'date': '2016-02-14 21:27:54',\n",
      "                 'review_id': 'CENs6Q1BeB0tkrUu_dxlbA',\n",
      "                 'stars': 5.0,\n",
      "                 'user_id': 'R1PCyy2n0NLWr1NlTz4fmQ'},\n",
      "               { 'business_id': 'H7z0JH-i_KqhrsZhEDBpVA',\n",
      "                 'date': '2016-07-17 20:06:01',\n",
      "                 'review_id': 'cujfDeqACgfhRhJuFGtwvQ',\n",
      "                 'stars': 4.0,\n",
      "                 'user_id': 'aG5XP_P_aoGPOJZibaHfzg'},\n",
      "               { 'business_id': 'H7z0JH-i_KqhrsZhEDBpVA',\n",
      "                 'date': '2018-02-25 19:09:48',\n",
      "                 'review_id': 'S-j7j3DdgzBwOOiKJnxVMw',\n",
      "                 'stars': 4.0,\n",
      "                 'user_id': 'R7G6h1iMjTfBlJ_7_5lTJw'},\n",
      "               { 'business_id': 'H7z0JH-i_KqhrsZhEDBpVA',\n",
      "                 'date': '2016-07-19 23:14:11',\n",
      "                 'review_id': 's7KxJftVZsJi6USiUtLlJQ',\n",
      "                 'stars': 5.0,\n",
      "                 'user_id': 'fDzsMj7uRdXIrr-6tUCr1Q'},\n",
      "               { 'business_id': 'H7z0JH-i_KqhrsZhEDBpVA',\n",
      "                 'date': '2016-02-28 01:12:30',\n",
      "                 'review_id': 'QbrVCRRdgwyZG0eAoruMFA',\n",
      "                 'stars': 5.0,\n",
      "                 'user_id': 'gwUaA_K4UMI7aiDJtcvY9Q'},\n",
      "               { 'business_id': 'H7z0JH-i_KqhrsZhEDBpVA',\n",
      "                 'date': '2016-01-11 00:04:32',\n",
      "                 'review_id': 'HwCWTP3Sw7C4TIduJtRIKA',\n",
      "                 'stars': 4.0,\n",
      "                 'user_id': '3o5jXPFnB-xp7uzThWi6XA'},\n",
      "               { 'business_id': 'H7z0JH-i_KqhrsZhEDBpVA',\n",
      "                 'date': '2017-07-13 05:49:05',\n",
      "                 'review_id': 'GU_vm9Kq2l-kfpE8ttB3GA',\n",
      "                 'stars': 5.0,\n",
      "                 'user_id': 'YA8a8GgpdpBANRHmzbbaXQ'},\n",
      "               { 'business_id': 'H7z0JH-i_KqhrsZhEDBpVA',\n",
      "                 'date': '2016-01-10 21:06:59',\n",
      "                 'review_id': 'Mm4zPuL0GA-hj1_QLZZyzA',\n",
      "                 'stars': 4.0,\n",
      "                 'user_id': 'oDMNWzGO6R4173vIqjpJDg'},\n",
      "               { 'business_id': 'H7z0JH-i_KqhrsZhEDBpVA',\n",
      "                 'date': '2018-01-03 22:30:52',\n",
      "                 'review_id': '5KJtu00FN_7SgixSYKiYnQ',\n",
      "                 'stars': 3.0,\n",
      "                 'user_id': 'uz5-sq6wHrXScrIWb8r1Mg'},\n",
      "               { 'business_id': 'H7z0JH-i_KqhrsZhEDBpVA',\n",
      "                 'date': '2016-11-03 05:52:09',\n",
      "                 'review_id': 'H39tKB4Tkk7eT_ImjaClXg',\n",
      "                 'stars': 2.0,\n",
      "                 'user_id': '1fNQRju9gmoCEvbPQBSo7w'},\n",
      "               { 'business_id': 'H7z0JH-i_KqhrsZhEDBpVA',\n",
      "                 'date': '2015-12-12 03:40:11',\n",
      "                 'review_id': 'HgJ3tA7Zs0GYYtMn9vjt1w',\n",
      "                 'stars': 3.0,\n",
      "                 'user_id': 'l6_sh0B2pq-WovlqLhtDAA'},\n",
      "               { 'business_id': 'H7z0JH-i_KqhrsZhEDBpVA',\n",
      "                 'date': '2016-04-29 02:53:15',\n",
      "                 'review_id': 'jr1h7BiE9YBmZoe4IxgD4Q',\n",
      "                 'stars': 5.0,\n",
      "                 'user_id': 'whCIT8n-O3EKWv_nIjl46w'},\n",
      "               { 'business_id': 'H7z0JH-i_KqhrsZhEDBpVA',\n",
      "                 'date': '2016-01-23 02:48:54',\n",
      "                 'review_id': '_WhvGDV3dmIE4OzS3ai3kQ',\n",
      "                 'stars': 3.0,\n",
      "                 'user_id': 'hevvS2jnFwKnFd2bYuqAXA'},\n",
      "               { 'business_id': 'H7z0JH-i_KqhrsZhEDBpVA',\n",
      "                 'date': '2016-02-15 20:58:05',\n",
      "                 'review_id': 'Tun7YNBqkkAf6TlVRL4vKA',\n",
      "                 'stars': 4.0,\n",
      "                 'user_id': 'mg0xz_HZvoDtv2zWm1YHZg'},\n",
      "               { 'business_id': 'H7z0JH-i_KqhrsZhEDBpVA',\n",
      "                 'date': '2018-06-14 03:02:24',\n",
      "                 'review_id': '_yP1LwERstdk3WRHFMSGmA',\n",
      "                 'stars': 5.0,\n",
      "                 'user_id': 'NsOJBmFDzDncvD5dffNJ3g'},\n",
      "               { 'business_id': 'H7z0JH-i_KqhrsZhEDBpVA',\n",
      "                 'date': '2015-12-16 18:08:47',\n",
      "                 'review_id': 'qXoPaNuSqVGj8I2OqBKgQA',\n",
      "                 'stars': 3.0,\n",
      "                 'user_id': 'Pzs43Fkub-6A9hA1zqpF_w'},\n",
      "               { 'business_id': 'H7z0JH-i_KqhrsZhEDBpVA',\n",
      "                 'date': '2018-01-27 02:58:40',\n",
      "                 'review_id': 'L_gkIWWiKB5t9-IxSf0DZA',\n",
      "                 'stars': 3.0,\n",
      "                 'user_id': '9y3nfjP4lQVTh3k0enxojA'},\n",
      "               { 'business_id': 'H7z0JH-i_KqhrsZhEDBpVA',\n",
      "                 'date': '2015-12-13 22:46:13',\n",
      "                 'review_id': 'Jwdc4xW92ygGUPWiOPT1Ew',\n",
      "                 'stars': 4.0,\n",
      "                 'user_id': 'l6_sh0B2pq-WovlqLhtDAA'},\n",
      "               { 'business_id': 'H7z0JH-i_KqhrsZhEDBpVA',\n",
      "                 'date': '2016-07-24 18:42:36',\n",
      "                 'review_id': 'weLZkvsWEC4vgfVa9HFAJA',\n",
      "                 'stars': 2.0,\n",
      "                 'user_id': 'abRFaJH9OgMzshBo6c9H4A'},\n",
      "               { 'business_id': 'H7z0JH-i_KqhrsZhEDBpVA',\n",
      "                 'date': '2016-06-21 18:49:36',\n",
      "                 'review_id': 'msi0c-V3TMKb-iilzsrFvQ',\n",
      "                 'stars': 4.0,\n",
      "                 'user_id': 'A_Hji10dns6OfZgifBYBTA'},\n",
      "               { 'business_id': 'H7z0JH-i_KqhrsZhEDBpVA',\n",
      "                 'date': '2016-05-13 17:49:55',\n",
      "                 'review_id': 'e5PCvfT5OBDQmRTNsapXFw',\n",
      "                 'stars': 5.0,\n",
      "                 'user_id': 'iquCZU8tjmRQrnDgci5YpQ'},\n",
      "               { 'business_id': 'H7z0JH-i_KqhrsZhEDBpVA',\n",
      "                 'date': '2017-01-22 17:30:27',\n",
      "                 'review_id': 'ZLkGEYSHh1DnvEn0dxbC7g',\n",
      "                 'stars': 5.0,\n",
      "                 'user_id': 'O-CJSgFUDt0LqqsGA2zKqg'},\n",
      "               { 'business_id': 'H7z0JH-i_KqhrsZhEDBpVA',\n",
      "                 'date': '2016-06-09 02:23:19',\n",
      "                 'review_id': '0726irItADPswKnlMPAR1g',\n",
      "                 'stars': 4.0,\n",
      "                 'user_id': 'CbTugsSQYBsVYeXHqdStUg'},\n",
      "               { 'business_id': 'H7z0JH-i_KqhrsZhEDBpVA',\n",
      "                 'date': '2017-01-14 04:34:54',\n",
      "                 'review_id': '0UA9QFPDkAyYq_Sg4qCpjA',\n",
      "                 'stars': 3.0,\n",
      "                 'user_id': 'U-hWiEpEZo_-Xv4Qgrs9Tw'},\n",
      "               { 'business_id': 'H7z0JH-i_KqhrsZhEDBpVA',\n",
      "                 'date': '2017-09-06 18:31:22',\n",
      "                 'review_id': 'aTDuG8IaZIWv1kTSrO8KTA',\n",
      "                 'stars': 4.0,\n",
      "                 'user_id': 'aeJZOuqK4UVGsxI8QHmiXg'},\n",
      "               { 'business_id': 'H7z0JH-i_KqhrsZhEDBpVA',\n",
      "                 'date': '2016-05-02 00:31:29',\n",
      "                 'review_id': 'fPBTzRXgojcVo9ORHGHp2Q',\n",
      "                 'stars': 3.0,\n",
      "                 'user_id': 'yeviL062OUk-CjileTr2Pw'},\n",
      "               { 'business_id': 'H7z0JH-i_KqhrsZhEDBpVA',\n",
      "                 'date': '2016-12-13 20:47:25',\n",
      "                 'review_id': 'q45cMB5iER9ogIuyMe1ZMQ',\n",
      "                 'stars': 2.0,\n",
      "                 'user_id': 'lqMLVVrwJ0WYuZ5V76rVgw'},\n",
      "               { 'business_id': 'H7z0JH-i_KqhrsZhEDBpVA',\n",
      "                 'date': '2017-02-18 18:59:54',\n",
      "                 'review_id': 'BI9r43PJyePoYEVaGi99yw',\n",
      "                 'stars': 5.0,\n",
      "                 'user_id': 'xJxTWaJCoiay9YuiAFlY2g'},\n",
      "               { 'business_id': 'H7z0JH-i_KqhrsZhEDBpVA',\n",
      "                 'date': '2015-12-03 00:48:55',\n",
      "                 'review_id': 'QGIbZewaQG1L5yKrKR0IeA',\n",
      "                 'stars': 3.0,\n",
      "                 'user_id': 'coMtm8Qlsp47p7Mo_Cf8AA'},\n",
      "               { 'business_id': 'H7z0JH-i_KqhrsZhEDBpVA',\n",
      "                 'date': '2018-09-13 13:54:15',\n",
      "                 'review_id': 'a-esYsJ9kIlXCChmISUkyg',\n",
      "                 'stars': 1.0,\n",
      "                 'user_id': 'jFGvMfufMHs2f-PxB_VMOQ'},\n",
      "               { 'business_id': 'H7z0JH-i_KqhrsZhEDBpVA',\n",
      "                 'date': '2018-11-02 11:30:24',\n",
      "                 'review_id': 'ZTeTX4CAazhaPAtMRen67Q',\n",
      "                 'stars': 4.0,\n",
      "                 'user_id': 'B41w9LUYQHbkTjFRfpHEjA'},\n",
      "               { 'business_id': 'H7z0JH-i_KqhrsZhEDBpVA',\n",
      "                 'date': '2018-06-17 15:16:55',\n",
      "                 'review_id': 'k6lztLKg5ClKQZ7jMh4eoQ',\n",
      "                 'stars': 2.0,\n",
      "                 'user_id': 'UWWVYrL5IZ_lTNVzx4kRUQ'},\n",
      "               { 'business_id': 'H7z0JH-i_KqhrsZhEDBpVA',\n",
      "                 'date': '2015-12-19 23:19:28',\n",
      "                 'review_id': 'dxzvSUt1ma044aApv6wYIA',\n",
      "                 'stars': 3.0,\n",
      "                 'user_id': 'ED2Cj2ku3_iHVUbKbOerJw'},\n",
      "               { 'business_id': 'H7z0JH-i_KqhrsZhEDBpVA',\n",
      "                 'date': '2018-08-05 15:11:49',\n",
      "                 'review_id': 'VKpO5ikg1GpHydhjsibi4g',\n",
      "                 'stars': 1.0,\n",
      "                 'user_id': 'fsci7aFxlo_gtgwSJZ4Twg'}]}\n"
     ]
    }
   ],
   "source": [
    "pp = pprint.PrettyPrinter(indent=2)\n",
    "\n",
    "pp.pprint(restaurant_dict[list(restaurant_dict.keys())[4]])"
   ]
  },
  {
   "cell_type": "code",
   "execution_count": 185,
   "metadata": {
    "collapsed": false
   },
   "outputs": [
    {
     "data": {
      "text/plain": [
       "<matplotlib.text.Text at 0x1960d9c4160>"
      ]
     },
     "execution_count": 185,
     "metadata": {},
     "output_type": "execute_result"
    },
    {
     "data": {
      "image/png": "[encoded data removed]",
      "text/plain": [
       "<matplotlib.figure.Figure at 0x196172b2208>"
      ]
     },
     "metadata": {},
     "output_type": "display_data"
    }
   ],
   "source": [
    "sample_restaurants.review_count.hist(bins = 100)\n",
    "plt.title('Sample Restaurants Review Count')"
   ]
  },
  {
   "cell_type": "code",
   "execution_count": 186,
   "metadata": {
    "collapsed": false
   },
   "outputs": [
    {
     "data": {
      "text/plain": [
       "12597"
      ]
     },
     "execution_count": 186,
     "metadata": {},
     "output_type": "execute_result"
    }
   ],
   "source": [
    "len(sample_reviews_df.index)"
   ]
  },
  {
   "cell_type": "code",
   "execution_count": null,
   "metadata": {
    "collapsed": true
   },
   "outputs": [],
   "source": []
  }
 ],
 "metadata": {
  "kernelspec": {
   "display_name": "Python [default]",
   "language": "python",
   "name": "python3"
  },
  "language_info": {
   "codemirror_mode": {
    "name": "ipython",
    "version": 3
   },
   "file_extension": ".py",
   "mimetype": "text/x-python",
   "name": "python",
   "nbconvert_exporter": "python",
   "pygments_lexer": "ipython3",
   "version": "3.6.0"
  }
 },
 "nbformat": 4,
 "nbformat_minor": 2
}
