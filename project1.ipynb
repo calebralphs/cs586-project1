{
 "cells": [
  {
   "cell_type": "markdown",
   "metadata": {},
   "source": [
    "## Importing Libraries"
   ]
  },
  {
   "cell_type": "code",
   "execution_count": 47,
   "metadata": {
    "collapsed": false
   },
   "outputs": [],
   "source": [
    "import json\n",
    "import ijson\n",
    "import pandas as pd\n",
    "from bisect import bisect_left\n",
    "import re"
   ]
  },
  {
   "cell_type": "markdown",
   "metadata": {},
   "source": [
    "## Business Dataset"
   ]
  },
  {
   "cell_type": "code",
   "execution_count": 84,
   "metadata": {
    "collapsed": true
   },
   "outputs": [],
   "source": [
    "businesses = pd.read_json('business.json', lines = True)\n",
    "restaurants = businesses.drop(businesses[businesses.categories.str.contains('Restaurants') == False].index) # 59853 Restaurants\n",
    "restaurants = restaurants[['business_id', 'name', 'city', 'state', 'review_count', 'stars']]\n",
    "restaurants.to_csv('restaurants.csv', index = False)"
   ]
  },
  {
   "cell_type": "markdown",
   "metadata": {},
   "source": [
    "## Review Dataset\n",
    "\n",
    "Functions to optimize searching for intersection of restaurants and reviews"
   ]
  },
  {
   "cell_type": "code",
   "execution_count": 85,
   "metadata": {
    "collapsed": false
   },
   "outputs": [],
   "source": [
    "def encode_business_id(string_id):\n",
    "    encoded_id = ''\n",
    "    for char in string_id:\n",
    "        if char.isdigit(): encoded_id += char\n",
    "        else: encoded_id += str(ord(char))\n",
    "    return encoded_id\n",
    "\n",
    "restaurant_business_ids = sorted([encode_business_id(i) for i in list(restaurants['business_id'])])\n",
    "\n",
    "def binary_search(sorted_list, target): \n",
    "    i = bisect_left(sorted_list, target) \n",
    "    if i != len(sorted_list) and sorted_list[i] == target: \n",
    "        return i \n",
    "    else: \n",
    "        return None"
   ]
  },
  {
   "cell_type": "markdown",
   "metadata": {},
   "source": [
    "Exporting full dataset to csv (estimated time: ~ 14 hours)"
   ]
  },
  {
   "cell_type": "code",
   "execution_count": null,
   "metadata": {
    "collapsed": false
   },
   "outputs": [],
   "source": [
    "# reviews: 'review_id', 'user_id', 'business_id', 'stars', 'date'\n",
    "chunk_size = 10000\n",
    "chunk_df = pd.DataFrame(columns=['review_id', 'user_id', 'business_id', 'stars', 'date'])\n",
    "\n",
    "chunk_count = 0\n",
    "num_checked = 0\n",
    "with open('review.json', 'r', errors = 'ignore') as file:\n",
    "    for line in file:\n",
    "        if chunk_count > chunk_size:\n",
    "            chunk_df.to_csv('restaurant_reviews.csv', mode = 'a', header = False)\n",
    "            chunk_df.drop(chunk_df.index, inplace=True)\n",
    "            num_checked += chunk_count\n",
    "            print(str(num_checked / 6685900))\n",
    "            chunk_count = 0\n",
    "        review = json.loads(line)\n",
    "        if binary_search(restaurant_business_ids, encode_business_id(review['business_id'])) != None:\n",
    "            chunk_count += 1\n",
    "            chunk_df = chunk_df.append({'review_id': review['review_id'], \n",
    "                             'user_id': review['user_id'],\n",
    "                             'business_id': review['business_id'],\n",
    "                             'stars': review['stars'],\n",
    "                             'date': review['date']}, ignore_index = True)"
   ]
  },
  {
   "cell_type": "code",
   "execution_count": null,
   "metadata": {
    "collapsed": false
   },
   "outputs": [
    {
     "name": "stdout",
     "output_type": "stream",
     "text": [
      "0.14% done, 1146 reviews in dataframe\n",
      "0.29% done, 2261 reviews in dataframe\n",
      "0.44% done, 3386 reviews in dataframe\n",
      "0.59% done, 4517 reviews in dataframe\n",
      "0.74% done, 5632 reviews in dataframe\n",
      "0.89% done, 6707 reviews in dataframe\n",
      "1.04% done, 7814 reviews in dataframe\n",
      "1.19% done, 8971 reviews in dataframe\n",
      "1.34% done, 10070 reviews in dataframe\n",
      "1.49% done, 11218 reviews in dataframe\n",
      "1.64% done, 12346 reviews in dataframe\n",
      "1.79% done, 13450 reviews in dataframe\n",
      "1.94% done, 14502 reviews in dataframe\n",
      "2.09% done, 15623 reviews in dataframe\n",
      "2.24% done, 16726 reviews in dataframe\n",
      "2.39% done, 17822 reviews in dataframe\n",
      "2.54% done, 18944 reviews in dataframe\n",
      "2.69% done, 20065 reviews in dataframe\n",
      "2.84% done, 21174 reviews in dataframe\n",
      "2.99% done, 22322 reviews in dataframe\n",
      "3.14% done, 23426 reviews in dataframe\n",
      "3.29% done, 24531 reviews in dataframe\n",
      "3.44% done, 25572 reviews in dataframe\n",
      "3.58% done, 26636 reviews in dataframe\n",
      "3.73% done, 27755 reviews in dataframe\n",
      "3.88% done, 28856 reviews in dataframe\n",
      "4.03% done, 29998 reviews in dataframe\n",
      "4.18% done, 31098 reviews in dataframe\n",
      "4.33% done, 32200 reviews in dataframe\n",
      "4.48% done, 33236 reviews in dataframe\n",
      "4.63% done, 34317 reviews in dataframe\n",
      "4.78% done, 35383 reviews in dataframe\n",
      "4.93% done, 36471 reviews in dataframe\n",
      "5.08% done, 37602 reviews in dataframe\n",
      "5.23% done, 38692 reviews in dataframe\n",
      "5.38% done, 39797 reviews in dataframe\n",
      "5.53% done, 40887 reviews in dataframe\n",
      "5.68% done, 42019 reviews in dataframe\n",
      "5.83% done, 43181 reviews in dataframe\n",
      "5.98% done, 44329 reviews in dataframe\n"
     ]
    }
   ],
   "source": [
    "restaurant_business_ids = list(restaurants['business_id'])[:1000]\n",
    "reviews_df = pd.DataFrame(columns = ['review_id', 'user_id', 'business_id', 'stars', 'date'])\n",
    "num_checked = 0\n",
    "with open('review.json', 'r', errors = 'ignore') as file:\n",
    "    for line in file:\n",
    "        review = json.loads(line)\n",
    "        num_checked += 1\n",
    "        if num_checked % 10000 == 0:\n",
    "            print(str(num_checked / 66859)[:4] + '% done, ' + str(len(reviews_df.index)) + ' reviews in dataframe')\n",
    "        if review['business_id'] in restaurant_business_ids:\n",
    "            reviews_df = reviews_df.append({'review_id': review['review_id'], \n",
    "                                            'user_id': review['user_id'],\n",
    "                                            'business_id': review['business_id'],\n",
    "                                            'stars': review['stars'],\n",
    "                                            'date': review['date']}, ignore_index = True)"
   ]
  },
  {
   "cell_type": "code",
   "execution_count": null,
   "metadata": {
    "collapsed": false
   },
   "outputs": [],
   "source": [
    "# users: 'user_id', 'review_count', 'elite', 'yelping_since', 'average_stars'"
   ]
  },
  {
   "cell_type": "code",
   "execution_count": null,
   "metadata": {
    "collapsed": true
   },
   "outputs": [],
   "source": []
  }
 ],
 "metadata": {
  "kernelspec": {
   "display_name": "Python [default]",
   "language": "python",
   "name": "python3"
  },
  "language_info": {
   "codemirror_mode": {
    "name": "ipython",
    "version": 3
   },
   "file_extension": ".py",
   "mimetype": "text/x-python",
   "name": "python",
   "nbconvert_exporter": "python",
   "pygments_lexer": "ipython3",
   "version": "3.6.0"
  }
 },
 "nbformat": 4,
 "nbformat_minor": 2
}
